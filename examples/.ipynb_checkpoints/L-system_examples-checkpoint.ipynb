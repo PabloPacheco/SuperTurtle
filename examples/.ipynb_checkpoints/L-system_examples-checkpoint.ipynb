{
 "cells": [
  {
   "cell_type": "code",
   "execution_count": 1,
   "id": "adc774e3",
   "metadata": {},
   "outputs": [],
   "source": [
    "import turtle\n",
    "import superTurtle as st\n",
    "from svg_turtle import SvgTurtle\n",
    "import matplotlib.pyplot as plt\n",
    "import numpy as np"
   ]
  },
  {
   "cell_type": "markdown",
   "id": "5366c530",
   "metadata": {},
   "source": [
    "SuperTurtle contains everything you need to draw based on L-systems. Some examples of codes and information about it can be found on the following site:\n",
    "\n",
    "http://paulbourke.net/fractals/lsys/\n",
    "\n",
    "The following function displays the rules and actions for drawing creation. If you use SuperTurtle, it is not necessary to create this function. There is an internal default function that contains rules and letter code similar to what exists in literature and software. The advantage of this is that you can add and create the type of rule you want through this function.\n"
   ]
  },
  {
   "cell_type": "code",
   "execution_count": 2,
   "id": "0d3fafc4",
   "metadata": {},
   "outputs": [],
   "source": [
    "def LVAR(var, obj, t):\n",
    "    ############################################\n",
    "    if var in [\"A\", \"B\", \"C\", \"D\", \"E\", \"F\"]:\n",
    "        t.forward(obj.size)\n",
    "    ############################################\n",
    "    elif var in [\"G\", \"H\", \"I\", \"J\", \"K\", \"L\"]:\n",
    "        t.penup()\n",
    "        t.forward(obj.size)\n",
    "        t.pendown()\n",
    "    ############################################\n",
    "    elif var == \"+\":\n",
    "        t.left(obj.angle)\n",
    "    ############################################\n",
    "    elif var == \"-\":\n",
    "        t.right(obj.angle)\n",
    "    ############################################\n",
    "    elif var == \"[\":\n",
    "        now = {}\n",
    "        now[\"pos\"] = t.pos()\n",
    "        now[\"heading\"] = t.heading()\n",
    "        now[\"pen\"] = t.pen()\n",
    "        obj.turtleStatus.append(now)\n",
    "    ############################################\n",
    "    elif var == \"]\":\n",
    "        t.pen(obj.turtleStatus[-1][\"pen\"])\n",
    "        t.penup()\n",
    "        t.setpos(obj.turtleStatus[-1][\"pos\"])\n",
    "        t.setheading(obj.turtleStatus[-1][\"heading\"])\n",
    "        t.pendown()\n",
    "        if len(obj.turtleStatus) <= 1:\n",
    "            obj.turtleStatus = []\n",
    "        else:\n",
    "            obj.turtleStatus.pop()\n",
    "    ############################################\n",
    "    elif var == \"<\":\n",
    "        obj.size = obj.size / obj.divsize\n",
    "    ############################################    \n",
    "    elif var == \">\":\n",
    "        obj.size = obj.size * obj.multsize\n",
    "    ############################################\n",
    "    elif var == \"(\":\n",
    "        obj.angle = obj.size / obj.divangle\n",
    "    ############################################    \n",
    "    elif var == \")\":\n",
    "        obj.angle = obj.size * obj.multangle        \n",
    "    ############################################    \n",
    "    elif var == \"|\":\n",
    "        t.left(180)   \n",
    "    ############################################    \n",
    "    elif var == \"#\":\n",
    "        obj.linewidth = obj.linewidth * obj.linewidthmult    \n",
    "    ############################################    \n",
    "    elif var == \"!\":\n",
    "        obj.linewidth = obj.linewidth / obj.linewidthdiv \n",
    "        \n",
    "    else:\n",
    "        return\n",
    "    \n",
    "    return "
   ]
  },
  {
   "cell_type": "markdown",
   "id": "1d953801",
   "metadata": {},
   "source": [
    "Example 1"
   ]
  },
  {
   "cell_type": "code",
   "execution_count": 21,
   "id": "ae5024e6",
   "metadata": {},
   "outputs": [],
   "source": [
    "turtle.screensize(1000, 1000)\n",
    "t = turtle.Turtle()\n",
    "#t = SvgTurtle(660, 660)\n",
    "\n",
    "t.speed(0)\n",
    "\n",
    "t.penup()\n",
    "t.forward(20)\n",
    "t.left(90)\n",
    "t.backward(20)\n",
    "t.pendown()\n",
    "\n",
    "fr = st.SuperTurtle(t)\n",
    "\n",
    "fr.tipo = \"lsystem\"\n",
    "fr.niter = 3\n",
    "fr.size = 4\n",
    "\n",
    "fr.lvariables = LVAR\n",
    "\n",
    "fr.rules = {\"F\" : \"F+F-F-FF+F+F-F\"}\n",
    "fr.axiom = \"F + F + F + F\"\n",
    "fr.angle = 90\n",
    "\n",
    "fr.genlcode()\n",
    "fr.draw()\n",
    "\n",
    "\n",
    "t.hideturtle()\n",
    "\n",
    "turtle.exitonclick()\n",
    "#dname = \"l-system_1.svg\"\n",
    "#t.save_as(dname)"
   ]
  },
  {
   "cell_type": "markdown",
   "id": "b7f8960d",
   "metadata": {},
   "source": [
    "<img src = \"l-system_1.svg\" width = \"600\">"
   ]
  },
  {
   "cell_type": "markdown",
   "id": "ddb21e45",
   "metadata": {},
   "source": [
    "Example 2"
   ]
  },
  {
   "cell_type": "code",
   "execution_count": 31,
   "id": "a64d6c84",
   "metadata": {},
   "outputs": [],
   "source": [
    "turtle.screensize(1000, 1000)\n",
    "t = turtle.Turtle()\n",
    "#t = SvgTurtle(660, 660)\n",
    "t.speed(0)\n",
    "t.left(90)\n",
    "t.penup()\n",
    "t.backward(100)\n",
    "t.pendown()\n",
    "\n",
    "fr = st.SuperTurtle(t)\n",
    "\n",
    "fr.tipo = \"lsystem\"\n",
    "fr.niter = 4\n",
    "fr.size = 10\n",
    "\n",
    "fr.lvariables = LVAR\n",
    "\n",
    "fr.axiom = \"X\"\n",
    "fr.rules = {\"F\" : \"FF\",\n",
    "            \"X\" : \"F-[[X]+X]+F[+FX]-X\"}\n",
    "\n",
    "fr.angle = 22.5\n",
    "\n",
    "fr.genlcode()\n",
    "fr.draw()\n",
    "\n",
    "\n",
    "t.hideturtle()\n",
    "\n",
    "turtle.exitonclick()\n",
    "#dname = \"l-system_2.svg\"\n",
    "#t.save_as(dname)"
   ]
  },
  {
   "cell_type": "markdown",
   "id": "d0a3aec4",
   "metadata": {},
   "source": [
    "<img src = \"l-system_2.svg\" width = \"600\">"
   ]
  },
  {
   "cell_type": "markdown",
   "id": "019c1873",
   "metadata": {},
   "source": [
    "Example 3"
   ]
  },
  {
   "cell_type": "code",
   "execution_count": 41,
   "id": "e1840a6f",
   "metadata": {},
   "outputs": [],
   "source": [
    "turtle.screensize(1000, 1000)\n",
    "t = turtle.Turtle()\n",
    "#t = SvgTurtle(660, 660)\n",
    "t.speed(0)\n",
    "t.penup()\n",
    "t.forward(310)\n",
    "t.left(90)\n",
    "t.backward(10)\n",
    "t.pendown()\n",
    "\n",
    "fr = st.SuperTurtle(t)\n",
    "\n",
    "fr.tipo = \"lsystem\"\n",
    "fr.niter = 4\n",
    "fr.size = 10\n",
    "\n",
    "fr.lvariables = LVAR\n",
    "\n",
    "fr.axiom = \"F+XF+F+XF\"\n",
    "fr.rules = {\"X\" : \"XF-F+F-XF+F+XF-F+F-X\"}\n",
    "\n",
    "fr.angle = 90\n",
    "\n",
    "fr.genlcode()\n",
    "fr.draw()\n",
    "\n",
    "t.hideturtle()\n",
    "\n",
    "turtle.exitonclick()\n",
    "#dname = \"l-system_3.svg\"\n",
    "#t.save_as(dname)"
   ]
  },
  {
   "cell_type": "markdown",
   "id": "b3861599",
   "metadata": {},
   "source": [
    "<img src = \"l-system_3.svg\" width = \"600\">"
   ]
  }
 ],
 "metadata": {
  "kernelspec": {
   "display_name": "Python 3 (ipykernel)",
   "language": "python",
   "name": "python3"
  },
  "language_info": {
   "codemirror_mode": {
    "name": "ipython",
    "version": 3
   },
   "file_extension": ".py",
   "mimetype": "text/x-python",
   "name": "python",
   "nbconvert_exporter": "python",
   "pygments_lexer": "ipython3",
   "version": "3.9.13"
  }
 },
 "nbformat": 4,
 "nbformat_minor": 5
}
