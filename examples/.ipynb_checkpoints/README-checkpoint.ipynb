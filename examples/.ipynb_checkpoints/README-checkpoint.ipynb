{
 "cells": [
  {
   "cell_type": "markdown",
   "id": "a835b73a",
   "metadata": {},
   "source": [
    "# Super Turtle \n",
    "\n",
    "Pablo Pacheco Pérez"
   ]
  },
  {
   "attachments": {},
   "cell_type": "markdown",
   "id": "b12d8cf8",
   "metadata": {},
   "source": [
    "\n",
    "\n",
    "<img src = \"welcomeSuperTurtle.svg\" width = \"666\">\n",
    "\n"
   ]
  },
  {
   "cell_type": "markdown",
   "id": "d686c69a",
   "metadata": {},
   "source": [
    "Convert the Python turtle into a class called SuperTurtle, which provides new functionalities by executing/creating methods within the SuperTurtle class. Create new drawings, including circles, polygons, Cartesian and polar arrays of various shapes, fractals (both recursive and L-system-based), and arrays of figures positioned at specific coordinates."
   ]
  },
  {
   "cell_type": "markdown",
   "id": "edf809cd",
   "metadata": {},
   "source": [
    "- Convert the classic Python turtle into a class called superTurtle.\n",
    "- It will gain new functionalities by executing/creating methods of the superTurtle class.\n",
    "- Use the methods of the superTurtle class to quickly create new drawings, such as:\n",
    "    - Circles drawn from the center.\n",
    "    - Polygons.\n",
    "    - Cartesian arrays of different shapes (which can be created using other methods of the same class).\n",
    "    - Polar arrays of shapes.\n",
    "    - Geometric figures.\n",
    "    - Fractals using recursive functions.\n",
    "    - Fractals using the L-system method.\n",
    "    - Arrays of figures on points with established coordinates."
   ]
  },
  {
   "cell_type": "markdown",
   "id": "ef0e2bff",
   "metadata": {},
   "source": [
    "## Some of the elements:\n",
    "\n",
    "### Circle: (circulo2)\n",
    "\n",
    "- **Function Name**: circulo\n",
    "- **radio**\n",
    "- **steps**: number of lines that compose the circle\n",
    "- **colorRelleno**: fillColor\n",
    "\n",
    "### Polar Array (polararray)\n",
    "\n",
    "- **nrad**: number of elements in the radial direction\n",
    "- **nang**: number of elements in the angular direction\n",
    "- **l0r1**:\n",
    "    - if 0, the array is created counterclockwise\n",
    "    - if 1, the array is created clockwise\n",
    "- **ang**: angle/arc covered by the elements\n",
    "- **ang0**: initial angle of inclination of the array\n",
    "- **radio0**: initial radius where the elements of the array start\n",
    "\n",
    "### Poligon (poligon)\n",
    "\n",
    "- **n**: number of sides\n",
    "- **lado**: side length\n",
    "- **vertex**: True or False, whether the polygon starts from the edge or the vertex\n",
    "\n",
    "### Cartesian Array (xyarray)\n",
    "\n",
    "- **lx**: length of the array in X\n",
    "- **ly**: length of the array in Y\n",
    "- **nx**: number of elements in the array in X\n",
    "- **ny**: number of elements in the array in Y\n",
    "- **center**: False or True, whether the array is centered at the initial point\n",
    "\n",
    "### Line Array (linearray)\n",
    "\n",
    "- **nlines**: number of lines\n",
    "- **lline**: line length\n",
    "- **startangle**: initial angle of inclination of the array\n",
    "- **totalangle**: angle/arc covered by the elements\n",
    "- **l0r1**:\n",
    "    - if 0, the array is created counterclockwise\n",
    "    - if 1, the array is created clockwise"
   ]
  },
  {
   "cell_type": "markdown",
   "id": "5eca400b",
   "metadata": {},
   "source": [
    "## Requirements\n",
    "\n",
    "It works for me with the following versions:\n",
    "\n",
    "svg-turtle                0.4.1                    \n",
    "numpy                     1.21.5          \n",
    "pandas                    1.4.4           \n",
    "python                    3.9.13 \n",
    "matplotlib                3.5.2    \n",
    "\n",
    "## Examples\n",
    "\n",
    "Check the examples folder, you will find ipynb files with a wide variety."
   ]
  }
 ],
 "metadata": {
  "kernelspec": {
   "display_name": "Python 3 (ipykernel)",
   "language": "python",
   "name": "python3"
  },
  "language_info": {
   "codemirror_mode": {
    "name": "ipython",
    "version": 3
   },
   "file_extension": ".py",
   "mimetype": "text/x-python",
   "name": "python",
   "nbconvert_exporter": "python",
   "pygments_lexer": "ipython3",
   "version": "3.9.13"
  }
 },
 "nbformat": 4,
 "nbformat_minor": 5
}
