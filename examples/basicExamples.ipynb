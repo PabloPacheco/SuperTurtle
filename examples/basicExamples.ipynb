{
 "cells": [
  {
   "cell_type": "code",
   "execution_count": 1,
   "id": "d772166e",
   "metadata": {},
   "outputs": [],
   "source": [
    "import turtle\n",
    "import superTurtle as st\n",
    "from svg_turtle import SvgTurtle\n",
    "import matplotlib.pyplot as plt\n",
    "import numpy as np"
   ]
  },
  {
   "cell_type": "markdown",
   "id": "2f1b0018",
   "metadata": {},
   "source": [
    "Simple circle drawn from the center (not from the corner, as \"circle\" originally does)"
   ]
  },
  {
   "cell_type": "code",
   "execution_count": 30,
   "id": "8b2ecce2",
   "metadata": {},
   "outputs": [],
   "source": [
    "turtle.screensize(300, 300)\n",
    "\n",
    "# Create the turtle\n",
    "#t = turtle.Turtle()\n",
    "t = SvgTurtle(300, 300)\n",
    "\n",
    "# Create an object called \"cir\" and turn it into a super turtle\n",
    "cir = st.SuperTurtle(t)\n",
    "# set the circle radius\n",
    "cir.radio = 100\n",
    "# set the number of steps\n",
    "cir.steps = 30\n",
    "# set the circle fill color\n",
    "cir.colorRelleno = \"blue\"\n",
    "# Tell the object what type of drawing it should perform\n",
    "cir.tipo = \"circle2\"\n",
    "# Tell the super turtle to draw.\n",
    "cir.draw()\n",
    "\n",
    "t.hideturtle()\n",
    "\n",
    "\n",
    "#turtle.exitonclick()\n",
    "dname = \"basic_1.svg\"\n",
    "t.save_as(dname)"
   ]
  },
  {
   "cell_type": "markdown",
   "id": "8efab7f3",
   "metadata": {},
   "source": [
    "The result is:\n",
    "\n",
    "<img src = \"basic_1.svg\" width = \"300\">"
   ]
  },
  {
   "cell_type": "markdown",
   "id": "9b5cbbd8",
   "metadata": {},
   "source": [
    "Create two super turtle objects and draw them multiple times"
   ]
  },
  {
   "cell_type": "code",
   "execution_count": 31,
   "id": "174fa156",
   "metadata": {},
   "outputs": [],
   "source": [
    "turtle.screensize(1000, 1000)\n",
    "\n",
    "t = turtle.Turtle()\n",
    "#t = SvgTurtle(300, 300)\n",
    "t.speed(0)\n",
    "\n",
    "cir = st.SuperTurtle(t)\n",
    "cir.lado = 50\n",
    "cir.colorRelleno = \"blue\"\n",
    "cir.tipo = \"poligon\"\n",
    "\n",
    "cir2 = st.SuperTurtle(t)\n",
    "cir2.lado = 100\n",
    "cir2.colorRelleno = \"red\"\n",
    "cir2.tipo = \"poligon\"\n",
    "\n",
    "objs = (cir2, cir)\n",
    "\n",
    "for i in range(4):\n",
    "    for ob in objs:\n",
    "        ob.draw()  \n",
    "    t.left(90)\n",
    "\n",
    "t.hideturtle()\n",
    "    \n",
    "turtle.exitonclick()\n",
    "\n",
    "#dname = \"basic_2.svg\"\n",
    "#t.save_as(dname)"
   ]
  },
  {
   "cell_type": "markdown",
   "id": "f721fb3a",
   "metadata": {},
   "source": [
    "<img src = \"basic_2.svg\" width = \"300\">"
   ]
  },
  {
   "cell_type": "markdown",
   "id": "63d75c49",
   "metadata": {},
   "source": [
    "Polar array of blue triangles"
   ]
  },
  {
   "cell_type": "code",
   "execution_count": 33,
   "id": "1cc7734c",
   "metadata": {},
   "outputs": [],
   "source": [
    "turtle.screensize(300, 300)\n",
    "\n",
    "# Create the turtle\n",
    "t = turtle.Turtle()\n",
    "#t = SvgTurtle(300, 300)\n",
    "t.speed(0)\n",
    "\n",
    "# Create an object called \"pol\" and turn it into a super turtle\n",
    "pol = st.SuperTurtle(t)\n",
    "# Tell the object what type of drawing it should perform\n",
    "pol.tipo = \"poligon\"\n",
    "# let's tell it the fill color of the polygon\n",
    "pol.colorRelleno = \"blue\"\n",
    "\n",
    "# Create another object called \"arr\" (polar array)\n",
    "arr = st.SuperTurtle(t)\n",
    "# Tell the object what type of drawing it should perform\n",
    "arr.tipo = \"polararray\"\n",
    "# Put the object(s) to be drawn in a tuple\n",
    "arr.objd = (pol,)\n",
    "# Tell the super turtle to draw.\n",
    "arr.draw()\n",
    "\n",
    "t.hideturtle()\n",
    "turtle.exitonclick()\n",
    "\n",
    "#dname = \"basic_3.svg\"\n",
    "#t.save_as(dname)"
   ]
  },
  {
   "cell_type": "markdown",
   "id": "46a18026",
   "metadata": {},
   "source": [
    "<img src = \"basic_3.svg\" width = \"300\">"
   ]
  },
  {
   "cell_type": "markdown",
   "id": "7e30e56b",
   "metadata": {},
   "source": [
    "The same as before, with some variations:"
   ]
  },
  {
   "cell_type": "code",
   "execution_count": 35,
   "id": "79cd4068",
   "metadata": {},
   "outputs": [],
   "source": [
    "turtle.screensize(300, 300)\n",
    "\n",
    "t = turtle.Turtle()\n",
    "t.speed(0)\n",
    "#t = SvgTurtle(300, 300)\n",
    "\n",
    "pol = st.SuperTurtle(t)\n",
    "pol.tipo = \"poligon\"\n",
    "pol.colorRelleno = \"blue\"\n",
    "pol.n = 6\n",
    "pol.lado = 9\n",
    "\n",
    "arr = st.SuperTurtle(t)\n",
    "arr.tipo = \"polararray\"\n",
    "arr.objd = (pol,)\n",
    "arr.nrad = 2\n",
    "arr.nang = 9\n",
    "arr.radio0 = 100\n",
    "\n",
    "arr.draw()\n",
    "\n",
    "t.hideturtle()\n",
    "turtle.exitonclick()\n",
    "\n",
    "#dname = \"basic_4.svg\"\n",
    "#t.save_as(dname)"
   ]
  },
  {
   "cell_type": "markdown",
   "id": "a43d738a",
   "metadata": {},
   "source": [
    "<img src = \"basic_4.svg\" width = \"300\">"
   ]
  },
  {
   "cell_type": "markdown",
   "id": "9fbb5ee7",
   "metadata": {},
   "source": [
    "...and more variations"
   ]
  },
  {
   "cell_type": "code",
   "execution_count": 41,
   "id": "226b37dd",
   "metadata": {},
   "outputs": [],
   "source": [
    "turtle.screensize(300, 300)\n",
    "\n",
    "t = turtle.Turtle()\n",
    "t.speed(0)\n",
    "#t = SvgTurtle(600, 600)\n",
    "\n",
    "pol = st.SuperTurtle(t)\n",
    "pol.tipo = \"poligon\"\n",
    "pol.colorRelleno = \"blue\"\n",
    "pol.n = 6\n",
    "pol.lado = 18\n",
    "\n",
    "arr = st.SuperTurtle(t)\n",
    "arr.tipo = \"polararray\"\n",
    "arr.objd = (pol,)\n",
    "arr.nrad = 3\n",
    "arr.nang = 9\n",
    "arr.radio0 = 250\n",
    "\n",
    "num = 1\n",
    "\n",
    "for i in range(6):\n",
    "    num *= -1\n",
    "    \n",
    "    if num < 0: \n",
    "        pol.colorRelleno = \"blue\"\n",
    "        pol.linecolor = \"blue\"\n",
    "    else:\n",
    "        pol.colorRelleno = \"red\"\n",
    "        pol.linecolor = \"red\"\n",
    "\n",
    "    arr.radio0 += 3\n",
    "    arr.draw()\n",
    "    t.left(3)\n",
    "    \n",
    "\n",
    "t.hideturtle()\n",
    "turtle.exitonclick()\n",
    "\n",
    "#dname = \"basic_5.svg\"\n",
    "#t.save_as(dname)"
   ]
  },
  {
   "cell_type": "markdown",
   "id": "3bf95ebb",
   "metadata": {},
   "source": [
    "<img src = \"basic_5.svg\" width = \"300\">"
   ]
  }
 ],
 "metadata": {
  "kernelspec": {
   "display_name": "Python 3 (ipykernel)",
   "language": "python",
   "name": "python3"
  },
  "language_info": {
   "codemirror_mode": {
    "name": "ipython",
    "version": 3
   },
   "file_extension": ".py",
   "mimetype": "text/x-python",
   "name": "python",
   "nbconvert_exporter": "python",
   "pygments_lexer": "ipython3",
   "version": "3.9.13"
  }
 },
 "nbformat": 4,
 "nbformat_minor": 5
}
